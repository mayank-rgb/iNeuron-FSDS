{
 "cells": [
  {
   "cell_type": "markdown",
   "id": "768d1c1f",
   "metadata": {},
   "source": [
    "1. In the below elements which of them are values or an expression?<br>\n",
    "eg:- values can be integer or string and expressions will be mathematical operators.\n",
    "*<br>\n",
    "&#39;hello&#39;<br>\n",
    "-87.8<br>\n",
    "-<br>\n",
    "/<br>\n",
    "+<br>\n",
    "6<br>"
   ]
  },
  {
   "cell_type": "markdown",
   "id": "472455a9",
   "metadata": {},
   "source": [
    "Ans - \n",
    "- Values\n",
    "1. 'hello'\n",
    "2. -87.8\n",
    "3. 6\n",
    "<br>\n",
    "- Expressions\n",
    "1. *\n",
    "2. -\n",
    "3. /\n",
    "4. +"
   ]
  },
  {
   "cell_type": "markdown",
   "id": "e76fbe64",
   "metadata": {},
   "source": [
    "2. What is the difference between string and variable?"
   ]
  },
  {
   "cell_type": "markdown",
   "id": "22ef275c",
   "metadata": {},
   "source": [
    "Answer - <br>A Variable is name of the location where we store some data in memory. We can store data of datatypes such as \n",
    "      String, Integer, Float, etc.<br><br>\n",
    "      A String is a datatype which represents a number of characters where they can be alphabetical character, number         or any special character. It can be a single character or a sentance. It is represent in Single(' ') or Double (\" \") quotes.\n",
    "      "
   ]
  },
  {
   "cell_type": "markdown",
   "id": "3513636b",
   "metadata": {},
   "source": [
    "3. Describe three different data types."
   ]
  },
  {
   "cell_type": "markdown",
   "id": "d5300340",
   "metadata": {},
   "source": [
    "Answer - <br>\n",
    "Three of many datatypes in Python are:-<br>\n",
    "- Interger\n",
    "- Float\n",
    "- List\n",
    "<br>\n",
    "<br>\n",
    "- <u>Integer</u> datatype represents a whole number. They can be positive or negative.\n",
    "- <u>Float</u> datatype represents fractional (decimal) number. They can be positive or negative and have decimal point.\n",
    "- <u>List</u> datatype represents a collection of elements which can of any datatype. It can store multiple elements. List is a ordered datatype where indexing starts from 0."
   ]
  },
  {
   "cell_type": "markdown",
   "id": "e55d30ac",
   "metadata": {},
   "source": [
    "4. What is an expression made up of? What do all expressions do?"
   ]
  },
  {
   "cell_type": "markdown",
   "id": "7c6ba3d2",
   "metadata": {},
   "source": [
    "Answer -<br>\n",
    "Expression is made of variables, operators and method invocation. Expressions perform certain task which gives certain output. They are evaluated by interpreter.An expression is an instruction that combines values and operators and always evaluates down to a single value."
   ]
  },
  {
   "cell_type": "markdown",
   "id": "1ae9ae5d",
   "metadata": {},
   "source": [
    "5. This assignment statements, like spam = 10. What is the difference between an\n",
    "expression and a statement?"
   ]
  },
  {
   "cell_type": "markdown",
   "id": "968be053",
   "metadata": {},
   "source": [
    "Answer -<br>\n",
    "An expression is a combination of values and functions that are combined and interpreted by the compiler to create a new value. A statement is every other instruction. A “statement” which is just a standalone unit of execution and mostly doesn't return anything."
   ]
  },
  {
   "cell_type": "markdown",
   "id": "afd88840",
   "metadata": {},
   "source": [
    "6. After running the following code, what does the variable bacon contain?"
   ]
  },
  {
   "cell_type": "code",
   "execution_count": 1,
   "id": "99d1db0b",
   "metadata": {},
   "outputs": [
    {
     "name": "stdout",
     "output_type": "stream",
     "text": [
      "22\n"
     ]
    }
   ],
   "source": [
    "bacon = 22\n",
    "bacon + 1\n",
    "print(bacon)"
   ]
  },
  {
   "cell_type": "markdown",
   "id": "1c5eed16",
   "metadata": {},
   "source": [
    "7. What should the values of the following two terms be?"
   ]
  },
  {
   "cell_type": "code",
   "execution_count": 2,
   "id": "2b67782b",
   "metadata": {},
   "outputs": [
    {
     "data": {
      "text/plain": [
       "'spamspamspam'"
      ]
     },
     "execution_count": 2,
     "metadata": {},
     "output_type": "execute_result"
    }
   ],
   "source": [
    "\"spam\" + \"spamspam\""
   ]
  },
  {
   "cell_type": "code",
   "execution_count": 3,
   "id": "28cd3772",
   "metadata": {},
   "outputs": [
    {
     "data": {
      "text/plain": [
       "'spamspamspam'"
      ]
     },
     "execution_count": 3,
     "metadata": {},
     "output_type": "execute_result"
    }
   ],
   "source": [
    "\"spam\" * 3"
   ]
  },
  {
   "cell_type": "markdown",
   "id": "71cb4c31",
   "metadata": {},
   "source": [
    "8. Why is eggs a valid variable name while 100 is invalid?"
   ]
  },
  {
   "cell_type": "markdown",
   "id": "42611353",
   "metadata": {},
   "source": [
    "Answer -<br>\n",
    "Because of the Rules of creating variables in Python or any other language we use only character or underscore(_)character for naming variable. "
   ]
  },
  {
   "cell_type": "markdown",
   "id": "1f9bc8fe",
   "metadata": {},
   "source": [
    "9. What three functions can be used to get the integer, floating-point number, or string\n",
    "version of a value?"
   ]
  },
  {
   "cell_type": "markdown",
   "id": "6b0a9eda",
   "metadata": {},
   "source": [
    "1. int() used to get integer version of value.\n",
    "2. float() used to get floating point version.\n",
    "3. str() used to get string version of value."
   ]
  },
  {
   "cell_type": "markdown",
   "id": "6766b7c3",
   "metadata": {},
   "source": [
    "10. Why does this expression cause an error? How can you fix it?<br>\n",
    "&#39;I have eaten &#39; + 99 + &#39; burritos.&#39;"
   ]
  },
  {
   "cell_type": "markdown",
   "id": "5f89e836",
   "metadata": {},
   "source": [
    "The expression gives error because of you can add or concatinate similar type of datatype. Here 'i have eaten' and 'burritos' are string type whereas 99 is integer type so thats why the interpreter gives error.<br>\n",
    "We can solve this by converting 99 into string type."
   ]
  },
  {
   "cell_type": "code",
   "execution_count": 6,
   "id": "6afa0136",
   "metadata": {},
   "outputs": [
    {
     "data": {
      "text/plain": [
       "'i have eaten 99 burritos.'"
      ]
     },
     "execution_count": 6,
     "metadata": {},
     "output_type": "execute_result"
    }
   ],
   "source": [
    "'i have eaten ' + str(99) + ' burritos.'"
   ]
  }
 ],
 "metadata": {
  "kernelspec": {
   "display_name": "Python 3 (ipykernel)",
   "language": "python",
   "name": "python3"
  },
  "language_info": {
   "codemirror_mode": {
    "name": "ipython",
    "version": 3
   },
   "file_extension": ".py",
   "mimetype": "text/x-python",
   "name": "python",
   "nbconvert_exporter": "python",
   "pygments_lexer": "ipython3",
   "version": "3.8.12"
  }
 },
 "nbformat": 4,
 "nbformat_minor": 5
}
