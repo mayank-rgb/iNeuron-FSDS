{
 "cells": [
  {
   "cell_type": "markdown",
   "id": "d207224a",
   "metadata": {},
   "source": [
    "1. Write a Python program to print &quot;Hello Python&quot;?"
   ]
  },
  {
   "cell_type": "code",
   "execution_count": 2,
   "id": "186740c2",
   "metadata": {},
   "outputs": [
    {
     "name": "stdout",
     "output_type": "stream",
     "text": [
      "Hello Python\n"
     ]
    }
   ],
   "source": [
    "print(\"Hello Python\")"
   ]
  },
  {
   "cell_type": "markdown",
   "id": "99cff546",
   "metadata": {},
   "source": [
    "2. Write a Python program to do arithmetical operations addition and division.?\n"
   ]
  },
  {
   "cell_type": "code",
   "execution_count": 7,
   "id": "7001b843",
   "metadata": {},
   "outputs": [
    {
     "name": "stdout",
     "output_type": "stream",
     "text": [
      "Addition of num1 and num2 is 24\n",
      "Division of num1 and num2 is 5\n"
     ]
    }
   ],
   "source": [
    "num1 = 20\n",
    "num2 = 4\n",
    "print(\"Addition of num1 and num2 is \" + str(num1 + num2))\n",
    "print(\"Division of num1 and num2 is \" + str(int(num1 / num2)))"
   ]
  },
  {
   "cell_type": "markdown",
   "id": "9042e801",
   "metadata": {},
   "source": [
    "3. Write a Python program to find the area of a triangle?"
   ]
  },
  {
   "cell_type": "code",
   "execution_count": 9,
   "id": "3c73ac87",
   "metadata": {},
   "outputs": [
    {
     "name": "stdout",
     "output_type": "stream",
     "text": [
      "Enter base: 6\n",
      "Enter height: 5\n",
      "Area of triangle is 15.0\n"
     ]
    }
   ],
   "source": [
    "base = int(input(\"Enter base: \"))\n",
    "height = int(input(\"Enter height: \"))\n",
    "\n",
    "area = (base*height)/2\n",
    "\n",
    "print(\"Area of triangle is \" + str(area))"
   ]
  },
  {
   "cell_type": "markdown",
   "id": "351f8ff2",
   "metadata": {},
   "source": [
    "4. Write a Python program to swap two variables?"
   ]
  },
  {
   "cell_type": "code",
   "execution_count": 10,
   "id": "d8eaff1d",
   "metadata": {},
   "outputs": [
    {
     "name": "stdout",
     "output_type": "stream",
     "text": [
      "10 and 5\n"
     ]
    }
   ],
   "source": [
    "a = 5\n",
    "b = 10\n",
    "\n",
    "temp = a #let temp be temporary variable for swapping\n",
    "a = b\n",
    "b = temp\n",
    "\n",
    "print(f\"{a} and {b}\")"
   ]
  },
  {
   "cell_type": "markdown",
   "id": "2409c5ef",
   "metadata": {},
   "source": [
    "5. Write a Python program to generate a random number?"
   ]
  },
  {
   "cell_type": "code",
   "execution_count": 23,
   "id": "593c66dd",
   "metadata": {},
   "outputs": [
    {
     "data": {
      "text/plain": [
       "11"
      ]
     },
     "execution_count": 23,
     "metadata": {},
     "output_type": "execute_result"
    }
   ],
   "source": [
    "import random\n",
    "\n",
    "random.randint(0, 20) #Generating random number from constraints 0 to 20"
   ]
  }
 ],
 "metadata": {
  "kernelspec": {
   "display_name": "Python 3 (ipykernel)",
   "language": "python",
   "name": "python3"
  },
  "language_info": {
   "codemirror_mode": {
    "name": "ipython",
    "version": 3
   },
   "file_extension": ".py",
   "mimetype": "text/x-python",
   "name": "python",
   "nbconvert_exporter": "python",
   "pygments_lexer": "ipython3",
   "version": "3.8.12"
  }
 },
 "nbformat": 4,
 "nbformat_minor": 5
}
